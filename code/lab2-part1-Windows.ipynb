{
    "cells": [
        {
            "cell_type": "markdown",
            "metadata": {},
            "source": [
                "# EE123 Lab 2: Software Defined Radio -  Part I\n",
                "\n",
                "### Written by Miki Lustig\n",
                "\n",
                "Updated by Drake Lin, Spring 2023\n",
                "\n",
                "Updated by Josh Sanz, Spring 2020, Spring 2022\n",
                "\n",
                "Updated by Alan Dong, Spring 2021"
            ]
        },
        {
            "cell_type": "markdown",
            "metadata": {},
            "source": [
                "## Frequency analysis using the DFT and windowing\n",
                "\n",
                "In this lab you will reproduce the frequency analysis slides demonstrated in class, and look at the effect of using different windows, length of sequence, and averaging."
            ]
        },
        {
            "cell_type": "code",
            "execution_count": 1,
            "metadata": {},
            "outputs": [],
            "source": [
                "# Import functions and libraries\n",
                "import numpy as np, matplotlib.pyplot as plt\n",
                "from numpy import *\n",
                "from numpy.fft import *\n",
                "from matplotlib.pyplot import *\n",
                "\n",
                "import numpy.fft as fft\n",
                "\n",
                "%matplotlib inline"
            ]
        },
        {
            "cell_type": "markdown",
            "metadata": {},
            "source": [
                "The following code implements the windowed DFTs that were shown in the lecture:"
            ]
        },
        {
            "cell_type": "code",
            "execution_count": 98,
            "metadata": {},
            "outputs": [],
            "source": [
                "def pltWinFFTs(y, N, window_sig, name):\n",
                "    # plots Individual FFTs\n",
                "    #\n",
                "    #  y -  Signal\n",
                "    #  N -  Length of DFT (zero-padding)\n",
                "    #  window_sig - Window\n",
                "    #  name - Name of window\n",
                "    \n",
                "    window = fft.fft(y*window_sig, N)\n",
                "    window_norm = 20*log10(abs(window)/max(abs(window)))\n",
                "    fig = figure(figsize=(16,2))\n",
                "    plot(r_[0.0:N/2.0]/N*2*pi,window_norm[0:N//2])\n",
                "    plt.title(f'{name}')\n",
                "    plt.ylabel('dB')\n",
                "    plt.xlabel('rad/samp')\n",
                "    axis((0,pi,-80,2))\n",
                "    show()\n",
                "    close()\n",
                "    \n",
                "\n",
                "def pltWindowedFFT(y, N):\n",
                "    # pltWindowedFFT takes a signal y, multiplies it with several windows,\n",
                "    # computes the N-length DFT of the (zero-padded) sequence,\n",
                "    # and displays its single sided spectrum.\n",
                "    #\n",
                "    #  y -  Signal\n",
                "    #  N -  Length of DFT (zero-padding)\n",
                "    \n",
                "    pltWinFFTs(y, N, np.ones(L), \"Rect\")\n",
                "    pltWinFFTs(y, N, np.bartlett(L), \"Triangle\")\n",
                "    pltWinFFTs(y, N, np.hanning(L), \"Hann\")\n",
                "    pltWinFFTs(y, N, np.hamming(L), \"Hamming\")\n",
                "    pltWinFFTs(y, N, np.blackman(L), \"Blackman\")\n",
                "    pltWinFFTs(y, N, np.kaiser(L, 6), \"Kaiser Beta=6\")\n",
                "    pltWinFFTs(y, N, np.kaiser(L, 9), \"Kaiser Beta=9\")"
            ]
        },
        {
            "cell_type": "markdown",
            "metadata": {},
            "source": [
                "Here we generate a 128 length sequence. The sequence is a sum of sinusoids that are close in frequency, but have a large dynamic range in the amplitude. We first compute the DFT of the sequence with different windows. The different window functions will trade-off the mainlobe width with sidelobe spectral artifacts. "
            ]
        },
        {
            "cell_type": "code",
            "execution_count": 99,
            "metadata": {},
            "outputs": [],
            "source": [
                "noise_std = 0 # standard deviation of additive noise\n",
                "N = 128       # FFT size\n",
                "L = 128       # Window size\n",
                "\n",
                "n = r_[0.0:L]\n",
                "\n",
                "omega1 = 2*pi*0.2   # frequency 1\n",
                "omega2 = 2*pi*0.25  # frequency 2\n",
                "A1 = 1              # amplitude of first sinusoid\n",
                "A2 = 0.005          # amplitude of second sinusoid\n",
                "y = A1*sin(omega1*n) + A2*sin(omega2*n) + np.random.randn(L)*noise_std\n",
                "\n",
                "pltWindowedFFT(y, N)"
            ]
        },
        {
            "cell_type": "markdown",
            "metadata": {},
            "source": [
                "## Task 1: zero-padding\n",
                "\n",
                "As you can see, the spectrum does not look \"nice\". In order to evaluate the spectrum at more points, in a way that is closer to how the DTFT would look, we need to zero-pad. \n",
                "\n",
                "* **Zero pad the sequence to 256.** Can you see improvement? Did the peak width or the sidelobe amplitudes change?\n",
                "* **Zero pad the sequence to 512, 1024, 4096**. Will increasing the zero-padding further change the shape of the spectrum? \n",
                "\n",
                "Run each experiment in a different cell so you can see the results better. "
            ]
        },
        {
            "cell_type": "code",
            "execution_count": 100,
            "metadata": {},
            "outputs": [],
            "source": [
                "# Your code here\n",
                "\n"
            ]
        },
        {
            "cell_type": "markdown",
            "metadata": {},
            "source": [
                "**Your answers here:**\n",
                "\n"
            ]
        },
        {
            "cell_type": "code",
            "execution_count": 101,
            "metadata": {},
            "outputs": [],
            "source": [
                "# Your code here\n",
                "\n"
            ]
        },
        {
            "cell_type": "code",
            "execution_count": 102,
            "metadata": {},
            "outputs": [],
            "source": [
                "# Your code here\n",
                "\n"
            ]
        },
        {
            "cell_type": "code",
            "execution_count": 103,
            "metadata": {},
            "outputs": [],
            "source": [
                "# Your code here\n",
                "\n"
            ]
        },
        {
            "cell_type": "markdown",
            "metadata": {},
            "source": [
                "**Your answers here:**\n",
                "\n"
            ]
        },
        {
            "cell_type": "markdown",
            "metadata": {},
            "source": [
                "## Task 2: Window sizes and noise\n",
                "\n",
                "In this task we will add Gaussian noise with standard deviation of 0.01 to the sequence. We will look at how increasing the sequence length improves the spectral resolution, as well as the signal-to-noise ratio of the spectrum.\n",
                "\n",
                "**Set the DFT length to N=4096, and set noise_std=0.01**\n",
                "\n",
                "* **Generate the sequence for L=128 and plot the windowed spectra.** Can you see the small peak? \n",
                "* **Generate the sequence for L=512 and plot the windowed spectra.** Can you see the small peak? Comment on the resolution of the peaks.\n",
                "* **Generate the sequence for L=2048 and plot the windowed spectra.** Comment on the signal-to-noise ratio. Comment on the resolution of the peaks.\n",
                "\n",
                "In general, for stationary signals, increasing the size of the window by a factor of $P$ will result in improved SNR of $\\sqrt{P}$"
            ]
        },
        {
            "cell_type": "code",
            "execution_count": 104,
            "metadata": {},
            "outputs": [],
            "source": [
                "# Generate the sequence for L=128 and plot the windowed spectra. Can you see the small peak? \n",
                "# Your code here:\n",
                "\n"
            ]
        },
        {
            "cell_type": "markdown",
            "metadata": {},
            "source": [
                "**Your answers here:**\n",
                "\n"
            ]
        },
        {
            "cell_type": "code",
            "execution_count": 105,
            "metadata": {},
            "outputs": [],
            "source": [
                "# Generate the sequence for L=512 and plot the windowed spectra. Can you see the small peak?\n",
                "# Comment on the resolution of the peaks.\n",
                "# Your code here:\n",
                "\n"
            ]
        },
        {
            "cell_type": "markdown",
            "metadata": {},
            "source": [
                "**Your answers here:**\n",
                "\n"
            ]
        },
        {
            "cell_type": "code",
            "execution_count": 106,
            "metadata": {},
            "outputs": [],
            "source": [
                "# Generate the sequence for L=2048 and plot the windowed spectra. \n",
                "# Comment on the signal-to-noise ratio. Comment on the resolution of the peaks.\n",
                "# Your code here:\n",
                "\n"
            ]
        },
        {
            "cell_type": "markdown",
            "metadata": {},
            "source": [
                "**Your answers here:**\n",
                "\n"
            ]
        },
        {
            "cell_type": "markdown",
            "metadata": {},
            "source": [
                "## Task 3: Average Power Spectrum\n",
                "\n",
                "As we increase the size of the window, the SNR of our spectrum improves, and the resolution of the spectrum also improves. \n",
                "However, sometimes we are not necessarily interested in increasing the resolution or size of our FFTs, but we are interested in improving SNR. \n",
                "\n",
                "One way to do so is to break the signal into non-overlapping sections of the desired length, compute their magnitude spectra, and then average the results. \n",
                "This is often called the average power spectrum. \n",
                "It is important to note that averaging the complex spectrum will often not result in your desired outcome. The reason is that the phase of the peaks in each segment may be different, depending on how we split the signal and what frequencies are involved. \n",
                "In that case, complex averaging will probably lead to cancellation of the signal.\n",
                "\n",
                "\n",
                "* **Set the DFT length to N=4096, and set noise_std=0.01. Generate the sequence with total length of: 10240.** \n",
                "* **Break the sequence into 20 segments of L=512. Window each segment with a Kaiser window with $\\beta=6$.**\n",
                "* **Zero-pad each segment to length N=4096 and compute the FFT.**\n",
                "* **Compute the average magnitude of the spectra, and display the result using the function ``semilogy``**\n",
                "* For comparison, **compute the average of the complex spectra and then take the magnitude and display the result.**\n",
                "* **Compare the result of the average power spectrum to the spectrum of the Kaiser window in Task 2.**\n"
            ]
        },
        {
            "cell_type": "code",
            "execution_count": 107,
            "metadata": {},
            "outputs": [],
            "source": [
                "# Generate noisy sines, break into segments, window, and compute the FFT.\n",
                "# Your code here:\n",
                "\n",
                "# End of your code\n",
                "\n",
                "# Compute means\n",
                "Pspect = mean(abs(X),axis=0)\n",
                "Pspect_cplx = abs(mean(X,axis=0))\n",
                "\n",
                "# Plotting:\n",
                "fig = figure(figsize=(16,2))\n",
                "semilogy(r_[0.0:N/2.0]/N*2*pi,Pspect[0:N//2])\n",
                "plt.xlabel('rad/samp')\n",
                "plt.title('Average power spectrum')\n",
                "fig = figure(figsize=(16,2))\n",
                "semilogy(r_[0.0:N/2.0]/N*2*pi,Pspect_cplx[0:N//2])\n",
                "plt.xlabel('rad/samp')\n",
                "title('Complex average of the spectrum');"
            ]
        },
        {
            "cell_type": "markdown",
            "metadata": {},
            "source": [
                "**Your answers here:**\n",
                "\n"
            ]
        },
        {
            "cell_type": "code",
            "execution_count": null,
            "metadata": {},
            "outputs": [],
            "source": []
        }
    ],
    "metadata": {
        "kernelspec": {
            "display_name": "Python 3",
            "language": "python",
            "name": "python3"
        },
        "language_info": {
            "codemirror_mode": {
                "name": "ipython",
                "version": 3
            },
            "file_extension": ".py",
            "mimetype": "text/x-python",
            "name": "python",
            "nbconvert_exporter": "python",
            "pygments_lexer": "ipython3",
            "version": "3.7.3"
        }
    },
    "nbformat": 4,
    "nbformat_minor": 1
}